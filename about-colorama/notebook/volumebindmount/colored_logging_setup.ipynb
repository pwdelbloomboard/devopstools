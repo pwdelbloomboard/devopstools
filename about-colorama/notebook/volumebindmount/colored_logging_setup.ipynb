{
 "cells": [
  {
   "cell_type": "code",
   "execution_count": 9,
   "id": "eb77b518-231d-4fa1-a9f4-09a3e3e127de",
   "metadata": {},
   "outputs": [],
   "source": [
    "import sys\n",
    "import logging\n",
    "from typing import Optional, Dict\n",
    "\n",
    "from colorama import Fore, Back, Style\n",
    "\n",
    "\n",
    "class ColoredFormatter(logging.Formatter):\n",
    "    \"\"\"Colored log formatter.\"\"\"\n",
    "\n",
    "    def __init__(self, *args, colors: Optional[Dict[str, str]]=None, **kwargs) -> None:\n",
    "        \"\"\"Initialize the formatter with specified format strings.\"\"\"\n",
    "\n",
    "        super().__init__(*args, **kwargs)\n",
    "\n",
    "        self.colors = colors if colors else {}\n",
    "\n",
    "    def format(self, record) -> str:\n",
    "        \"\"\"Format the specified record as text.\"\"\"\n",
    "\n",
    "        record.color = self.colors.get(record.levelname, '')\n",
    "        record.reset = Style.RESET_ALL\n",
    "\n",
    "        return super().format(record)\n",
    "    \n",
    "def configure_colored_logging(formatter: ColoredFormatter) -> None:\n",
    "    \"\"\"Configure logger with custom handler and formatter.\"\"\"\n",
    "    # create stream handler which outputs logs to sys.stdout\n",
    "    handler = logging.StreamHandler(sys.stdout)\n",
    "    # set the formatter for handler to ColoredFormatter class, formatter\n",
    "    handler.setFormatter(formatter)\n",
    "\n",
    "    logger = logging.getLogger()  # set root logger\n",
    "    logger.handlers[:] = []  # remove previous setting\n",
    "\n",
    "    logger.addHandler(handler)  # add handler to work with stdout\n",
    "    logger.setLevel(logging.DEBUG)  # set log level to debug\n",
    "\n",
    "\n",
    "# Create a ColoredFormatter instance\n",
    "formatter = ColoredFormatter(\n",
    "    '{asctime} |{color} {levelname:8} {reset}| {name} | {message}',\n",
    "    style='{', datefmt='%Y-%m-%d %H:%M:%S',\n",
    "    colors={\n",
    "        'DEBUG': Fore.CYAN,\n",
    "        'INFO': Fore.GREEN,\n",
    "        'WARNING': Fore.YELLOW,\n",
    "        'ERROR': Fore.RED,\n",
    "        'CRITICAL': Fore.RED + Back.WHITE + Style.BRIGHT,\n",
    "    }\n",
    ")"
   ]
  },
  {
   "cell_type": "code",
   "execution_count": 10,
   "id": "1d1b3afc-0b63-45e5-953b-842b504c8758",
   "metadata": {},
   "outputs": [],
   "source": [
    "# Configure logger using the function\n",
    "configure_colored_logging(formatter)"
   ]
  },
  {
   "cell_type": "code",
   "execution_count": 11,
   "id": "d3ea2338-01aa-42e3-af96-360a6f5ab831",
   "metadata": {},
   "outputs": [
    {
     "name": "stdout",
     "output_type": "stream",
     "text": [
      "2023-04-25 21:22:06 |\u001b[36m DEBUG    \u001b[0m| root | This is a debug message\n",
      "2023-04-25 21:22:06 |\u001b[32m INFO     \u001b[0m| root | This is an info message\n",
      "2023-04-25 21:22:06 |\u001b[33m WARNING  \u001b[0m| root | This is a warning message\n",
      "2023-04-25 21:22:06 |\u001b[31m ERROR    \u001b[0m| root | This is an error message\n",
      "2023-04-25 21:22:06 |\u001b[31m\u001b[47m\u001b[1m CRITICAL \u001b[0m| root | This is a critical message\n"
     ]
    }
   ],
   "source": [
    "# Log messages at different levels\n",
    "logging.debug(\"This is a debug message\")\n",
    "logging.info(\"This is an info message\")\n",
    "logging.warning(\"This is a warning message\")\n",
    "logging.error(\"This is an error message\")\n",
    "logging.critical(\"This is a critical message\")"
   ]
  },
  {
   "cell_type": "code",
   "execution_count": null,
   "id": "498449c4-afc3-43db-b762-ac5b8384c080",
   "metadata": {},
   "outputs": [],
   "source": []
  }
 ],
 "metadata": {
  "kernelspec": {
   "display_name": "Python 3 (ipykernel)",
   "language": "python",
   "name": "python3"
  },
  "language_info": {
   "codemirror_mode": {
    "name": "ipython",
    "version": 3
   },
   "file_extension": ".py",
   "mimetype": "text/x-python",
   "name": "python",
   "nbconvert_exporter": "python",
   "pygments_lexer": "ipython3",
   "version": "3.9.0"
  }
 },
 "nbformat": 4,
 "nbformat_minor": 5
}
