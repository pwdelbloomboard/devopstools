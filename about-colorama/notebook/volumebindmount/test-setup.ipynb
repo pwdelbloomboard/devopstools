{
 "cells": [
  {
   "cell_type": "code",
   "execution_count": 1,
   "id": "30a8c04b-095f-4467-9b20-fd0c00c7bf1f",
   "metadata": {},
   "outputs": [],
   "source": [
    "# from https://www.datacamp.com/tutorial/machine-learning-models-api-python\n",
    "# Import dependencies\n",
    "import pandas as pd\n",
    "import numpy as np\n",
    "import sklearn\n",
    "import joblib\n",
    "\n",
    "def load_datacamp_trainingcsv(url):\n",
    "    # Load the dataset in a dataframe object and include only four features as mentioned\n",
    "    df = pd.read_csv(url)\n",
    "    include = ['Age', 'Sex', 'Embarked', 'Survived'] # Only four features\n",
    "    df_ = df[include]\n",
    "    print(df_.head())\n",
    "    return df_\n",
    "\n",
    "def replace_nans_with_zeros(input_csv_df):\n",
    "    categoricals = []\n",
    "    for col, col_type in input_csv_df.dtypes.items():\n",
    "        if col_type == 'O':\n",
    "            categoricals.append(col)\n",
    "        else:\n",
    "            input_csv_df[col].fillna(0, inplace=True)\n",
    "    print(categoricals)\n",
    "\n",
    "def encoding_and_logistic_regression(categoricals,df_):\n",
    "    # Encode categorical features as a one-hot numeric array.\n",
    "    df_ohe = pd.get_dummies(df_, columns=categoricals, dummy_na=True)\n",
    "    \n",
    "    from sklearn.linear_model import LogisticRegression\n",
    "    dependent_variable = 'Survived'\n",
    "    x = df_ohe[df_ohe.columns.difference([dependent_variable])]\n",
    "    y = df_ohe[dependent_variable]\n",
    "    lr = LogisticRegression()\n",
    "    lr.fit(x, y)\n",
    "    \n",
    "    LogisticRegression(C=1.0, class_weight=None, dual=False, fit_intercept=True,\n",
    "    intercept_scaling=1, max_iter=100, multi_class='ovr', n_jobs=1,\n",
    "    penalty='l2', random_state=None, solver='liblinear', tol=0.0001,\n",
    "    verbose=0, warm_start=False)\n",
    "        \n",
    "    print(lr)   \n",
    "    return(lr,x)\n",
    "\n",
    "def save_model_file_to_tmp(lr):\n",
    "    FILENAME = '/tmp/model.joblib'\n",
    "    joblib.dump(lr, FILENAME)\n",
    "    print('model dumped! File should be available at /tmp/model.joblib')\n",
    "\n",
    "def save_data_columns_to_tmp(x):\n",
    "    # Saving the data columns from training\n",
    "    FILENAME = '/tmp/model_columns.joblib'    \n",
    "    model_columns = list(x.columns)\n",
    "    joblib.dump(model_columns, FILENAME)\n",
    "    print(\"columns dumped! File should be available at /tmp/model_columns.joblib\")\n",
    "    \n",
    "def execute_create_and_save_joblib():\n",
    "    INPUT_URL = \"http://s3.amazonaws.com/assets.datacamp.com/course/Kaggle/train.csv\"\n",
    "    kaggle_trainingcsv_df = load_datacamp_trainingcsv(INPUT_URL)\n",
    "    kaggle_categories = replace_nans_with_zeros(kaggle_trainingcsv_df)\n",
    "    kaggle_lr,kaggle_columns = encoding_and_logistic_regression(kaggle_categories,kaggle_trainingcsv_df)\n",
    "    save_model_file_to_tmp(kaggle_lr)\n",
    "    save_data_columns_to_tmp(kaggle_columns)"
   ]
  },
  {
   "cell_type": "code",
   "execution_count": 2,
   "id": "c2213a66-71b2-4222-8f91-ad15cb6e3f99",
   "metadata": {},
   "outputs": [
    {
     "name": "stdout",
     "output_type": "stream",
     "text": [
      "    Age     Sex Embarked  Survived\n",
      "0  22.0    male        S         0\n",
      "1  38.0  female        C         1\n",
      "2  26.0  female        S         1\n",
      "3  35.0  female        S         1\n",
      "4  35.0    male        S         0\n",
      "['Sex', 'Embarked']\n",
      "LogisticRegression()\n",
      "model dumped! File should be available at /tmp/model.joblib\n",
      "columns dumped! File should be available at /tmp/model_columns.joblib\n"
     ]
    }
   ],
   "source": [
    "execute_create_and_save_joblib()"
   ]
  },
  {
   "cell_type": "code",
   "execution_count": null,
   "id": "62f14500-6949-4163-8b54-f4832bbbb522",
   "metadata": {},
   "outputs": [],
   "source": []
  }
 ],
 "metadata": {
  "kernelspec": {
   "display_name": "Python 3 (ipykernel)",
   "language": "python",
   "name": "python3"
  },
  "language_info": {
   "codemirror_mode": {
    "name": "ipython",
    "version": 3
   },
   "file_extension": ".py",
   "mimetype": "text/x-python",
   "name": "python",
   "nbconvert_exporter": "python",
   "pygments_lexer": "ipython3",
   "version": "3.9.0"
  }
 },
 "nbformat": 4,
 "nbformat_minor": 5
}
