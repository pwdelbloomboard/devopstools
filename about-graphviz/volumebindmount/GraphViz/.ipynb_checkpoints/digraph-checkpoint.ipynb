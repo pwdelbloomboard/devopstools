{
 "cells": [
  {
   "cell_type": "code",
   "execution_count": null,
   "id": "568d764b-238b-4fdd-a0e5-2822cb01e9d1",
   "metadata": {},
   "outputs": [],
   "source": [
    "source='''digraph G {\n",
    "\n",
    "  subgraph cluster_0 {\n",
    "    style=filled;\n",
    "    color=lightgrey;\n",
    "    node [style=filled,color=white];\n",
    "    a0 -> a1 -> a2 -> a3;\n",
    "    label = \"process #1\";\n",
    "  }\n",
    "\n",
    "  subgraph cluster_1 {\n",
    "    node [style=filled];\n",
    "    b0 -> b1 -> b2 -> b3;\n",
    "    label = \"process #2\";\n",
    "    color=blue\n",
    "  }\n",
    "  start -> a0;\n",
    "  start -> b0;\n",
    "  a1 -> b3;\n",
    "  b2 -> a3;\n",
    "  a3 -> a0;\n",
    "  a3 -> end;\n",
    "  b3 -> end;\n",
    "\n",
    "  start [shape=Mdiamond];\n",
    "  end [shape=Msquare];\n",
    "}'''"
   ]
  }
 ],
 "metadata": {
  "kernelspec": {
   "display_name": "Python 3 (ipykernel)",
   "language": "python",
   "name": "python3"
  },
  "language_info": {
   "codemirror_mode": {
    "name": "ipython",
    "version": 3
   },
   "file_extension": ".py",
   "mimetype": "text/x-python",
   "name": "python",
   "nbconvert_exporter": "python",
   "pygments_lexer": "ipython3",
   "version": "3.10.5"
  }
 },
 "nbformat": 4,
 "nbformat_minor": 5
}
